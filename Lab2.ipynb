{
 "cells": [
  {
   "cell_type": "code",
   "execution_count": 1,
   "id": "4e3765b5-cde4-4888-920d-2cf16ddb796e",
   "metadata": {},
   "outputs": [
    {
     "name": "stdout",
     "output_type": "stream",
     "text": [
      "Варіант 2\n"
     ]
    }
   ],
   "source": [
    "print(f\"Варіант {(27 + 4) % 5 + 1}\")"
   ]
  },
  {
   "cell_type": "markdown",
   "id": "ac422c0e-808a-4651-b650-d091d5fa0ef5",
   "metadata": {},
   "source": [
    "#### Варіант 2\n",
    "Завдання: 3, 4, 5, 8, 9, 11, 12, 13, 14, 16, 17, 18, \r\n",
    "19, 20, 22, 23, 24, 27"
   ]
  },
  {
   "cell_type": "markdown",
   "id": "3011d7f3-f0f4-48b8-a9d8-b698079f5bfe",
   "metadata": {},
   "source": [
    "3. Отримайте імена стовпців набору даних.\n",
    "4. Отримайте загальну інформацію про дані у наборі даних.\n",
    "5. Знайдіть кількість унікальних імен у наборі даних.\n",
    "8. Знайдіть найпопулярніше ім’я за результатами одного року (ім’я, для якого \n",
    "Count максимальне.\n",
    "9. Підрахуйте кількість записів, для яких Count - мінімальне у наборі.\n",
    "11. Знайдіть рік із найбільшою кількістю унікальних імен.\n",
    "12. Знайдіть найпопулярніше ім’я в році з найбільшою кількістю унікальних \n",
    "імен (тобто у 2008 році.\n",
    "13. Знайдіть рік, коли ім’я “Jacob” було найпопулярнішим серед жіночих \n",
    "іме.\n",
    "14. Знайти рік із найбільшою кількістю гендерно нейтральних імен (однакові \n",
    "чоловічі та жіночі імена.\n",
    "16. Знайдіть рік, коли народилося найбільше дітей.\n",
    "17. Знайдіть кількість дівчаток та хлопчиків, які народились кожного року.\n",
    "18. Підрахуйте кількість років, коли дівчаток народжувалось більше, ніж \n",
    "хлопчиків\n",
    "19. Накресліть графік загальної кількості народжень хлопчиків та дівчаток на \n",
    "рік\n",
    "20. Підрахуйте кількість гендерно нейтральних імен (однакових для дівчат та \n",
    "хлопців.\n",
    "22. Підрахуйте скільки років проводилось спостереження.\n",
    "23. Знати найпопулярніші гендерно-нейтральні імена (ті, що присутні \n",
    "кожного року.\n",
    "24. Знайти найпопулярніше серед непопулярних імен.\n",
    "27. Знайти найпопулярніші імена в кожному році."
   ]
  },
  {
   "cell_type": "markdown",
   "id": "5be498b3-16d0-4d2a-91ed-dc14cc192690",
   "metadata": {},
   "source": [
    "### Виконання роботи"
   ]
  },
  {
   "cell_type": "markdown",
   "id": "f593b350-218b-4189-a7d3-70d5a0c9faed",
   "metadata": {},
   "source": [
    "### 3. Отримайте імена стовпців набору даних."
   ]
  },
  {
   "cell_type": "code",
   "execution_count": 4,
   "id": "120fd1de-e906-46aa-b18a-bd5390e4adc0",
   "metadata": {},
   "outputs": [
    {
     "data": {
      "text/plain": [
       "Index(['Id', 'Name', 'Year', 'Gender', 'Count'], dtype='object')"
      ]
     },
     "execution_count": 4,
     "metadata": {},
     "output_type": "execute_result"
    }
   ],
   "source": [
    "import pandas as pd\n",
    "import numpy as np\n",
    "import matplotlib.pyplot as plot\n",
    "\n",
    "df = pd.read_csv(\"./NationalNames.csv\")\n",
    "df.columns"
   ]
  },
  {
   "cell_type": "markdown",
   "id": "85df3675-7168-4d61-ab9b-6a892ea075b2",
   "metadata": {},
   "source": [
    "### 4. Отримайте загальну інформацію про дані у наборі даних."
   ]
  },
  {
   "cell_type": "code",
   "execution_count": 6,
   "id": "b97b83ef-67c7-4972-bd6b-0631ff2497e9",
   "metadata": {},
   "outputs": [
    {
     "data": {
      "text/html": [
       "<div>\n",
       "<style scoped>\n",
       "    .dataframe tbody tr th:only-of-type {\n",
       "        vertical-align: middle;\n",
       "    }\n",
       "\n",
       "    .dataframe tbody tr th {\n",
       "        vertical-align: top;\n",
       "    }\n",
       "\n",
       "    .dataframe thead th {\n",
       "        text-align: right;\n",
       "    }\n",
       "</style>\n",
       "<table border=\"1\" class=\"dataframe\">\n",
       "  <thead>\n",
       "    <tr style=\"text-align: right;\">\n",
       "      <th></th>\n",
       "      <th>Id</th>\n",
       "      <th>Year</th>\n",
       "      <th>Count</th>\n",
       "    </tr>\n",
       "  </thead>\n",
       "  <tbody>\n",
       "    <tr>\n",
       "      <th>count</th>\n",
       "      <td>1.825433e+06</td>\n",
       "      <td>1.825433e+06</td>\n",
       "      <td>1.825433e+06</td>\n",
       "    </tr>\n",
       "    <tr>\n",
       "      <th>mean</th>\n",
       "      <td>9.127170e+05</td>\n",
       "      <td>1.972620e+03</td>\n",
       "      <td>1.846879e+02</td>\n",
       "    </tr>\n",
       "    <tr>\n",
       "      <th>std</th>\n",
       "      <td>5.269573e+05</td>\n",
       "      <td>3.352891e+01</td>\n",
       "      <td>1.566711e+03</td>\n",
       "    </tr>\n",
       "    <tr>\n",
       "      <th>min</th>\n",
       "      <td>1.000000e+00</td>\n",
       "      <td>1.880000e+03</td>\n",
       "      <td>5.000000e+00</td>\n",
       "    </tr>\n",
       "    <tr>\n",
       "      <th>25%</th>\n",
       "      <td>4.563590e+05</td>\n",
       "      <td>1.949000e+03</td>\n",
       "      <td>7.000000e+00</td>\n",
       "    </tr>\n",
       "    <tr>\n",
       "      <th>50%</th>\n",
       "      <td>9.127170e+05</td>\n",
       "      <td>1.982000e+03</td>\n",
       "      <td>1.200000e+01</td>\n",
       "    </tr>\n",
       "    <tr>\n",
       "      <th>75%</th>\n",
       "      <td>1.369075e+06</td>\n",
       "      <td>2.001000e+03</td>\n",
       "      <td>3.200000e+01</td>\n",
       "    </tr>\n",
       "    <tr>\n",
       "      <th>max</th>\n",
       "      <td>1.825433e+06</td>\n",
       "      <td>2.014000e+03</td>\n",
       "      <td>9.968000e+04</td>\n",
       "    </tr>\n",
       "  </tbody>\n",
       "</table>\n",
       "</div>"
      ],
      "text/plain": [
       "                 Id          Year         Count\n",
       "count  1.825433e+06  1.825433e+06  1.825433e+06\n",
       "mean   9.127170e+05  1.972620e+03  1.846879e+02\n",
       "std    5.269573e+05  3.352891e+01  1.566711e+03\n",
       "min    1.000000e+00  1.880000e+03  5.000000e+00\n",
       "25%    4.563590e+05  1.949000e+03  7.000000e+00\n",
       "50%    9.127170e+05  1.982000e+03  1.200000e+01\n",
       "75%    1.369075e+06  2.001000e+03  3.200000e+01\n",
       "max    1.825433e+06  2.014000e+03  9.968000e+04"
      ]
     },
     "execution_count": 6,
     "metadata": {},
     "output_type": "execute_result"
    }
   ],
   "source": [
    "df.describe()"
   ]
  },
  {
   "cell_type": "markdown",
   "id": "1e6aba0d-c219-4eb8-a53b-5edc04567091",
   "metadata": {},
   "source": [
    "### 5. Знайдіть кількість унікальних імен у наборі даних."
   ]
  },
  {
   "cell_type": "code",
   "execution_count": 7,
   "id": "2a9a98e9-a453-4a54-a1e4-9f4fad942fd0",
   "metadata": {},
   "outputs": [
    {
     "data": {
      "text/plain": [
       "93889"
      ]
     },
     "execution_count": 7,
     "metadata": {},
     "output_type": "execute_result"
    }
   ],
   "source": [
    "df['Name'].nunique()"
   ]
  },
  {
   "cell_type": "markdown",
   "id": "43f6e91b-1f12-472c-a333-2365927e5ebf",
   "metadata": {},
   "source": [
    "### 8. Знайдіть найпопулярніше ім’я за результатами одного року (ім’я, для якого Count максимальне)."
   ]
  },
  {
   "cell_type": "code",
   "execution_count": 44,
   "id": "096d80c0-bf7c-43d4-ae2e-c738f0d4b5a6",
   "metadata": {},
   "outputs": [
    {
     "name": "stdout",
     "output_type": "stream",
     "text": [
      "The name is 'Linda' in 1947\n"
     ]
    }
   ],
   "source": [
    "def find_most_popular_name_in_year(y):\n",
    "    data_for_year = df[df['Year'] == y]\n",
    "    most_popular_name_for_year = data_for_year[data_for_year['Count'] == data_for_year['Count'].max()]['Name'].values[0]\n",
    "    print(f\"The name is '{most_popular_name_for_year}' in {y}\")\n",
    "find_most_popular_name_in_year(1947)    "
   ]
  },
  {
   "cell_type": "markdown",
   "id": "d0cbf5bd-b6c1-44ea-bbc2-234034dbb4f7",
   "metadata": {},
   "source": [
    "### 9. Підрахуйте кількість записів, для яких Count - мінімальне у наборі."
   ]
  },
  {
   "cell_type": "code",
   "execution_count": 17,
   "id": "8944ed9f-b27a-4393-9bed-b54629400b70",
   "metadata": {},
   "outputs": [
    {
     "data": {
      "text/plain": [
       "254615"
      ]
     },
     "execution_count": 17,
     "metadata": {},
     "output_type": "execute_result"
    }
   ],
   "source": [
    "df[df['Count'] == df['Count'].min()].shape[0]"
   ]
  },
  {
   "cell_type": "markdown",
   "id": "eaebd409-09df-4fe1-963c-8e038c85657a",
   "metadata": {},
   "source": [
    "### 11. Знайдіть рік із найбільшою кількістю унікальних імен."
   ]
  },
  {
   "cell_type": "code",
   "execution_count": 43,
   "id": "44df60c6-ebfc-47d9-a318-9dc35a4ec7c3",
   "metadata": {},
   "outputs": [
    {
     "name": "stdout",
     "output_type": "stream",
     "text": [
      "Year 2008; Unique names: 32488\n"
     ]
    }
   ],
   "source": [
    "u_name_count_frame = df.groupby('Year')['Name'].nunique()\n",
    "print(f\"Year {u_name_count_frame.idxmax()}; Unique names: {u_name_count_frame.max()}\")"
   ]
  },
  {
   "cell_type": "markdown",
   "id": "61aca5a8-d619-4dcc-b6d9-cf641d9d5a2c",
   "metadata": {},
   "source": [
    "### 12. Знайдіть найпопулярніше ім’я в році з найбільшою кількістю унікальних імен (тобто у 2008 році)."
   ]
  },
  {
   "cell_type": "code",
   "execution_count": 45,
   "id": "a6a890c3-8405-4789-9380-8bc6ef26e1a8",
   "metadata": {},
   "outputs": [
    {
     "name": "stdout",
     "output_type": "stream",
     "text": [
      "The name is 'Jacob' in 2008\n"
     ]
    }
   ],
   "source": [
    "find_most_popular_name_in_year(2008)"
   ]
  },
  {
   "cell_type": "markdown",
   "id": "0009be0d-d9fa-425a-a67a-faad38c80c1e",
   "metadata": {},
   "source": [
    "### 13. Знайдіть рік, коли ім’я “Jacob” було найпопулярнішим серед жіночих імен."
   ]
  },
  {
   "cell_type": "code",
   "execution_count": 55,
   "id": "bd0efbf5-d7e5-4ca0-9e05-2f699e057f0a",
   "metadata": {},
   "outputs": [
    {
     "data": {
      "text/html": [
       "<div>\n",
       "<style scoped>\n",
       "    .dataframe tbody tr th:only-of-type {\n",
       "        vertical-align: middle;\n",
       "    }\n",
       "\n",
       "    .dataframe tbody tr th {\n",
       "        vertical-align: top;\n",
       "    }\n",
       "\n",
       "    .dataframe thead th {\n",
       "        text-align: right;\n",
       "    }\n",
       "</style>\n",
       "<table border=\"1\" class=\"dataframe\">\n",
       "  <thead>\n",
       "    <tr style=\"text-align: right;\">\n",
       "      <th></th>\n",
       "      <th>Id</th>\n",
       "      <th>Name</th>\n",
       "      <th>Year</th>\n",
       "      <th>Gender</th>\n",
       "      <th>Count</th>\n",
       "    </tr>\n",
       "  </thead>\n",
       "  <tbody>\n",
       "    <tr>\n",
       "      <th>1455556</th>\n",
       "      <td>1455557</td>\n",
       "      <td>Jacob</td>\n",
       "      <td>2004</td>\n",
       "      <td>F</td>\n",
       "      <td>171</td>\n",
       "    </tr>\n",
       "  </tbody>\n",
       "</table>\n",
       "</div>"
      ],
      "text/plain": [
       "              Id   Name  Year Gender  Count\n",
       "1455556  1455557  Jacob  2004      F    171"
      ]
     },
     "execution_count": 55,
     "metadata": {},
     "output_type": "execute_result"
    }
   ],
   "source": [
    "all_jacob_name_rows = df[(df['Gender'] == 'F') & (df['Name'] == 'Jacob')]\n",
    "all_jacob_name_rows[all_jacob_name_rows['Count'] == all_jacob_name_rows['Count'].max()]\n"
   ]
  },
  {
   "cell_type": "markdown",
   "id": "82308cd2-0f1a-415d-9c8b-edb0b35721cb",
   "metadata": {},
   "source": [
    "### 14. Знайти рік із найбільшою кількістю гендерно нейтральних імен (однакові чоловічі та жіночі імена)."
   ]
  },
  {
   "cell_type": "code",
   "execution_count": 66,
   "id": "b97631ad-342f-406f-abb2-ed19e18a7bfc",
   "metadata": {},
   "outputs": [
    {
     "data": {
      "text/plain": [
       "Year\n",
       "2008    2557\n",
       "Name: Gender, dtype: int64"
      ]
     },
     "execution_count": 66,
     "metadata": {},
     "output_type": "execute_result"
    }
   ],
   "source": [
    "gender_counts = df.groupby(['Year', 'Name'])['Gender'].nunique()\n",
    "gender_neutral_names = gender_counts[gender_counts == 2]\n",
    "names_per_year = gender_neutral_names.groupby('Year').count()\n",
    "names_per_year[names_per_year == names_per_year.max()]"
   ]
  },
  {
   "cell_type": "markdown",
   "id": "72524265-beeb-4009-9736-f4fa28f80391",
   "metadata": {},
   "source": [
    "### 16. Знайдіть рік, коли народилося найбільше дітей."
   ]
  },
  {
   "cell_type": "code",
   "execution_count": 70,
   "id": "9a3d4663-0516-4d99-8073-861a2a62f988",
   "metadata": {},
   "outputs": [
    {
     "data": {
      "text/plain": [
       "1957"
      ]
     },
     "execution_count": 70,
     "metadata": {},
     "output_type": "execute_result"
    }
   ],
   "source": [
    "df.groupby(['Year'])['Count'].sum().idxmax()"
   ]
  },
  {
   "cell_type": "markdown",
   "id": "40d1a5b3-0c8f-4cea-bc91-2b4d8b839c0e",
   "metadata": {},
   "source": [
    "### 17. Знайдіть кількість дівчаток та хлопчиків, які народились кожного року."
   ]
  },
  {
   "cell_type": "code",
   "execution_count": 74,
   "id": "278ede25-794a-4a46-bd8e-a269151cfc50",
   "metadata": {},
   "outputs": [
    {
     "data": {
      "text/html": [
       "<div>\n",
       "<style scoped>\n",
       "    .dataframe tbody tr th:only-of-type {\n",
       "        vertical-align: middle;\n",
       "    }\n",
       "\n",
       "    .dataframe tbody tr th {\n",
       "        vertical-align: top;\n",
       "    }\n",
       "\n",
       "    .dataframe thead th {\n",
       "        text-align: right;\n",
       "    }\n",
       "</style>\n",
       "<table border=\"1\" class=\"dataframe\">\n",
       "  <thead>\n",
       "    <tr style=\"text-align: right;\">\n",
       "      <th>Gender</th>\n",
       "      <th>F</th>\n",
       "      <th>M</th>\n",
       "    </tr>\n",
       "    <tr>\n",
       "      <th>Year</th>\n",
       "      <th></th>\n",
       "      <th></th>\n",
       "    </tr>\n",
       "  </thead>\n",
       "  <tbody>\n",
       "    <tr>\n",
       "      <th>1880</th>\n",
       "      <td>90993</td>\n",
       "      <td>110491</td>\n",
       "    </tr>\n",
       "    <tr>\n",
       "      <th>1881</th>\n",
       "      <td>91954</td>\n",
       "      <td>100745</td>\n",
       "    </tr>\n",
       "    <tr>\n",
       "      <th>1882</th>\n",
       "      <td>107850</td>\n",
       "      <td>113688</td>\n",
       "    </tr>\n",
       "    <tr>\n",
       "      <th>1883</th>\n",
       "      <td>112321</td>\n",
       "      <td>104629</td>\n",
       "    </tr>\n",
       "    <tr>\n",
       "      <th>1884</th>\n",
       "      <td>129022</td>\n",
       "      <td>114445</td>\n",
       "    </tr>\n",
       "    <tr>\n",
       "      <th>...</th>\n",
       "      <td>...</td>\n",
       "      <td>...</td>\n",
       "    </tr>\n",
       "    <tr>\n",
       "      <th>2010</th>\n",
       "      <td>1772738</td>\n",
       "      <td>1913851</td>\n",
       "    </tr>\n",
       "    <tr>\n",
       "      <th>2011</th>\n",
       "      <td>1753500</td>\n",
       "      <td>1893230</td>\n",
       "    </tr>\n",
       "    <tr>\n",
       "      <th>2012</th>\n",
       "      <td>1753922</td>\n",
       "      <td>1889414</td>\n",
       "    </tr>\n",
       "    <tr>\n",
       "      <th>2013</th>\n",
       "      <td>1745339</td>\n",
       "      <td>1881463</td>\n",
       "    </tr>\n",
       "    <tr>\n",
       "      <th>2014</th>\n",
       "      <td>1768775</td>\n",
       "      <td>1901376</td>\n",
       "    </tr>\n",
       "  </tbody>\n",
       "</table>\n",
       "<p>135 rows × 2 columns</p>\n",
       "</div>"
      ],
      "text/plain": [
       "Gender        F        M\n",
       "Year                    \n",
       "1880      90993   110491\n",
       "1881      91954   100745\n",
       "1882     107850   113688\n",
       "1883     112321   104629\n",
       "1884     129022   114445\n",
       "...         ...      ...\n",
       "2010    1772738  1913851\n",
       "2011    1753500  1893230\n",
       "2012    1753922  1889414\n",
       "2013    1745339  1881463\n",
       "2014    1768775  1901376\n",
       "\n",
       "[135 rows x 2 columns]"
      ]
     },
     "execution_count": 74,
     "metadata": {},
     "output_type": "execute_result"
    }
   ],
   "source": [
    "fm_annual_birth_df = df.groupby(['Year', 'Gender'])['Count'].sum().unstack()\n",
    "fm_annual_birth_df"
   ]
  },
  {
   "cell_type": "markdown",
   "id": "7a53331b-7bdf-42f4-9833-85fa2881cbd0",
   "metadata": {},
   "source": [
    "### 18. Підрахуйте кількість років, коли дівчаток народжувалось більше, ніж хлопчиків."
   ]
  },
  {
   "cell_type": "code",
   "execution_count": 76,
   "id": "d51fa2a7-0bd4-454f-b531-9572d1a04031",
   "metadata": {},
   "outputs": [
    {
     "data": {
      "text/plain": [
       "54"
      ]
     },
     "execution_count": 76,
     "metadata": {},
     "output_type": "execute_result"
    }
   ],
   "source": [
    "(fm_annual_birth_df['F'] > fm_annual_birth_df['M']).sum()"
   ]
  },
  {
   "cell_type": "markdown",
   "id": "ccc53c34-d596-4d4c-88fa-052a3aa2cc74",
   "metadata": {},
   "source": [
    "### 19. Накресліть графік загальної кількості народжень хлопчиків та дівчаток на рік."
   ]
  },
  {
   "cell_type": "code",
   "execution_count": 98,
   "id": "18466f18-0c49-48ff-bf26-c64c03319980",
   "metadata": {},
   "outputs": [
    {
     "data": {
      "image/png": "[encoded data removed]",
      "text/plain": [
       "<Figure size 640x480 with 1 Axes>"
      ]
     },
     "metadata": {},
     "output_type": "display_data"
    }
   ],
   "source": [
    "plot.plot(fm_annual_birth_df.index, fm_annual_birth_df['F'], color='red', label='F')\n",
    "plot.plot(fm_annual_birth_df.index, fm_annual_birth_df['M'], color='blue', label='M')\n",
    "plot.xlabel(\"Year\")\n",
    "plot.ylabel(\"total births per year\")\n",
    "plt.gca().get_yaxis().get_major_formatter().set_scientific(False)\n",
    "plot.legend(fontsize=\"x-large\")\n",
    "plot.show()"
   ]
  },
  {
   "cell_type": "markdown",
   "id": "2577cd8c-b7d4-4c0f-8d3a-46e776ff804a",
   "metadata": {},
   "source": [
    "### 20. Підрахуйте кількість гендерно нейтральних імен (однакових для дівчат та хлопців)."
   ]
  },
  {
   "cell_type": "code",
   "execution_count": 6,
   "id": "f14f7abf-4c6f-4094-b66e-6f8e32154247",
   "metadata": {},
   "outputs": [
    {
     "data": {
      "text/plain": [
       "10221"
      ]
     },
     "execution_count": 6,
     "metadata": {},
     "output_type": "execute_result"
    }
   ],
   "source": [
    "all_gender_neutral_names = df.groupby(['Name'])['Gender'].nunique()\n",
    "all_gender_neutral_names = all_gender_neutral_names[all_gender_neutral_names == 2]\n",
    "all_gender_neutral_names.count()"
   ]
  },
  {
   "cell_type": "markdown",
   "id": "7dcd6db1-ece2-462b-8fd9-64a3762d4f82",
   "metadata": {},
   "source": [
    "### 22. Підрахуйте скільки років проводилось спостереження."
   ]
  },
  {
   "cell_type": "code",
   "execution_count": 107,
   "id": "7625acce-73e4-4856-b55e-a9cc6da3a334",
   "metadata": {},
   "outputs": [
    {
     "name": "stdout",
     "output_type": "stream",
     "text": [
      "Спостереження проводились 135 років\n"
     ]
    }
   ],
   "source": [
    "print(f\"Спостереження проводились {df['Year'].nunique()} років\")"
   ]
  },
  {
   "cell_type": "markdown",
   "id": "a0f97b88-9206-42f8-966f-476ab8df9509",
   "metadata": {},
   "source": [
    "### 23. Знати найпопулярніші гендерно-нейтральні імена (ті, що присутні кожного року)."
   ]
  },
  {
   "cell_type": "code",
   "execution_count": 124,
   "id": "d2129b58-1516-4703-8419-44560a7dfa0a",
   "metadata": {},
   "outputs": [
    {
     "data": {
      "text/html": [
       "<div>\n",
       "<style scoped>\n",
       "    .dataframe tbody tr th:only-of-type {\n",
       "        vertical-align: middle;\n",
       "    }\n",
       "\n",
       "    .dataframe tbody tr th {\n",
       "        vertical-align: top;\n",
       "    }\n",
       "\n",
       "    .dataframe thead th {\n",
       "        text-align: right;\n",
       "    }\n",
       "</style>\n",
       "<table border=\"1\" class=\"dataframe\">\n",
       "  <thead>\n",
       "    <tr style=\"text-align: right;\">\n",
       "      <th></th>\n",
       "      <th>Name</th>\n",
       "    </tr>\n",
       "  </thead>\n",
       "  <tbody>\n",
       "    <tr>\n",
       "      <th>0</th>\n",
       "      <td>Francis</td>\n",
       "    </tr>\n",
       "    <tr>\n",
       "      <th>1</th>\n",
       "      <td>James</td>\n",
       "    </tr>\n",
       "    <tr>\n",
       "      <th>2</th>\n",
       "      <td>Jean</td>\n",
       "    </tr>\n",
       "    <tr>\n",
       "      <th>3</th>\n",
       "      <td>Jesse</td>\n",
       "    </tr>\n",
       "    <tr>\n",
       "      <th>4</th>\n",
       "      <td>Jessie</td>\n",
       "    </tr>\n",
       "    <tr>\n",
       "      <th>5</th>\n",
       "      <td>John</td>\n",
       "    </tr>\n",
       "    <tr>\n",
       "      <th>6</th>\n",
       "      <td>Johnnie</td>\n",
       "    </tr>\n",
       "    <tr>\n",
       "      <th>7</th>\n",
       "      <td>Joseph</td>\n",
       "    </tr>\n",
       "    <tr>\n",
       "      <th>8</th>\n",
       "      <td>Lee</td>\n",
       "    </tr>\n",
       "    <tr>\n",
       "      <th>9</th>\n",
       "      <td>Leslie</td>\n",
       "    </tr>\n",
       "    <tr>\n",
       "      <th>10</th>\n",
       "      <td>Marion</td>\n",
       "    </tr>\n",
       "    <tr>\n",
       "      <th>11</th>\n",
       "      <td>Ollie</td>\n",
       "    </tr>\n",
       "    <tr>\n",
       "      <th>12</th>\n",
       "      <td>Robert</td>\n",
       "    </tr>\n",
       "    <tr>\n",
       "      <th>13</th>\n",
       "      <td>Sidney</td>\n",
       "    </tr>\n",
       "    <tr>\n",
       "      <th>14</th>\n",
       "      <td>Tommie</td>\n",
       "    </tr>\n",
       "    <tr>\n",
       "      <th>15</th>\n",
       "      <td>William</td>\n",
       "    </tr>\n",
       "  </tbody>\n",
       "</table>\n",
       "</div>"
      ],
      "text/plain": [
       "       Name\n",
       "0   Francis\n",
       "1     James\n",
       "2      Jean\n",
       "3     Jesse\n",
       "4    Jessie\n",
       "5      John\n",
       "6   Johnnie\n",
       "7    Joseph\n",
       "8       Lee\n",
       "9    Leslie\n",
       "10   Marion\n",
       "11    Ollie\n",
       "12   Robert\n",
       "13   Sidney\n",
       "14   Tommie\n",
       "15  William"
      ]
     },
     "execution_count": 124,
     "metadata": {},
     "output_type": "execute_result"
    }
   ],
   "source": [
    "gn_names_count = gender_neutral_names.groupby(['Name']).count()\n",
    "gn_names_count[gn_names_count == df['Year'].nunique()].reset_index().drop(columns='Gender')"
   ]
  },
  {
   "cell_type": "markdown",
   "id": "2c5b02ee-4aa0-4ea6-a1d6-500223f8fdfa",
   "metadata": {},
   "source": [
    "### 24. Знайти найпопулярніше серед непопулярних імен."
   ]
  },
  {
   "cell_type": "code",
   "execution_count": 157,
   "id": "1a68188b-9a54-4265-b024-b64935dc8cc1",
   "metadata": {},
   "outputs": [
    {
     "data": {
      "text/html": [
       "<div>\n",
       "<style scoped>\n",
       "    .dataframe tbody tr th:only-of-type {\n",
       "        vertical-align: middle;\n",
       "    }\n",
       "\n",
       "    .dataframe tbody tr th {\n",
       "        vertical-align: top;\n",
       "    }\n",
       "\n",
       "    .dataframe thead th {\n",
       "        text-align: right;\n",
       "    }\n",
       "</style>\n",
       "<table border=\"1\" class=\"dataframe\">\n",
       "  <thead>\n",
       "    <tr style=\"text-align: right;\">\n",
       "      <th></th>\n",
       "      <th>count</th>\n",
       "      <th>sum</th>\n",
       "    </tr>\n",
       "    <tr>\n",
       "      <th>Name</th>\n",
       "      <th></th>\n",
       "      <th></th>\n",
       "    </tr>\n",
       "  </thead>\n",
       "  <tbody>\n",
       "    <tr>\n",
       "      <th>Christop</th>\n",
       "      <td>1</td>\n",
       "      <td>1082</td>\n",
       "    </tr>\n",
       "  </tbody>\n",
       "</table>\n",
       "</div>"
      ],
      "text/plain": [
       "          count   sum\n",
       "Name                 \n",
       "Christop      1  1082"
      ]
     },
     "execution_count": 157,
     "metadata": {},
     "output_type": "execute_result"
    }
   ],
   "source": [
    "names_grouped_by_year = df.groupby(['Year', 'Name'])['Count'].sum()\n",
    "names_popularity = names_grouped_by_year.groupby('Name').agg(['count', 'sum'])\n",
    "most_unpopular_names = names_popularity[names_popularity['count'] == 1]\n",
    "most_unpopular_names_sorted = most_unpopular_names.sort_values(by=('sum'), ascending=False)\n",
    "most_unpopular_names_sorted.head(1)"
   ]
  },
  {
   "cell_type": "markdown",
   "id": "96897198-4b39-4d37-9972-332ba78dda77",
   "metadata": {},
   "source": [
    "### 27. Знайти найпопулярніші імена в кожному році."
   ]
  },
  {
   "cell_type": "code",
   "execution_count": 153,
   "id": "d5b9a1ec-74a1-4346-8457-887637ed0c83",
   "metadata": {},
   "outputs": [
    {
     "data": {
      "text/plain": [
       "Year  Name    \n",
       "1880  John         9701\n",
       "1881  John         8795\n",
       "1882  John         9597\n",
       "1883  John         8934\n",
       "1884  John         9428\n",
       "                  ...  \n",
       "2010  Isabella    22913\n",
       "2011  Sophia      21839\n",
       "2012  Sophia      22285\n",
       "2013  Sophia      21172\n",
       "2014  Emma        20811\n",
       "Name: Count, Length: 135, dtype: int64"
      ]
     },
     "execution_count": 153,
     "metadata": {},
     "output_type": "execute_result"
    }
   ],
   "source": [
    "most_popular_names_by_year = names_grouped_by_year.groupby('Year').idxmax()\n",
    "names_grouped_by_year.loc[most_popular_names_by_year]"
   ]
  },
  {
   "cell_type": "code",
   "execution_count": null,
   "id": "07b8b627-3542-4540-b3ff-1737a8bb8863",
   "metadata": {},
   "outputs": [],
   "source": []
  }
 ],
 "metadata": {
  "kernelspec": {
   "display_name": "Python 3 (ipykernel)",
   "language": "python",
   "name": "python3"
  },
  "language_info": {
   "codemirror_mode": {
    "name": "ipython",
    "version": 3
   },
   "file_extension": ".py",
   "mimetype": "text/x-python",
   "name": "python",
   "nbconvert_exporter": "python",
   "pygments_lexer": "ipython3",
   "version": "3.11.5"
  }
 },
 "nbformat": 4,
 "nbformat_minor": 5
}
